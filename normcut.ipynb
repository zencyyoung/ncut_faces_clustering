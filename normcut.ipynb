{
 "cells": [
  {
   "cell_type": "code",
   "execution_count": 27,
   "metadata": {
    "collapsed": false
   },
   "outputs": [],
   "source": [
    "import numpy as np\n",
    "import scipy.io as sio\n",
    "import scipy\n",
    "import scipy.spatial\n",
    "from scipy.linalg import norm\n",
    "np.set_printoptions(threshold=100)\n",
    "\n",
    "mat_contents = sio.loadmat('umist_cropped.mat')\n",
    "facedat = mat_contents['facedat']\n",
    "\n",
    "people = facedat[0]\n",
    "people1 = facedat[0][0]\n",
    "people2 = facedat[0][1]\n",
    "people1_face1 = facedat[0][0][:,:,0]\n",
    "people2_face2 = facedat[0][1][:,:,1]\n",
    "\n",
    "vec_people1_face1 = people1_face1.flatten()\n",
    "vec_people2_face2 = people2_face2.flatten()\n",
    "pixels=112*92\n"
   ]
  },
  {
   "cell_type": "code",
   "execution_count": 28,
   "metadata": {
    "collapsed": false,
    "scrolled": true
   },
   "outputs": [
    {
     "name": "stdout",
     "output_type": "stream",
     "text": [
      "38\n",
      "35\n",
      "38 35\n",
      "73\n",
      "[[    0.          1712.1583252   3003.83666992 ...,  7742.68994141\n",
      "   8096.61083984  8547.62402344]\n",
      " [ 1712.1583252      0.          2379.18066406 ...,  7789.65966797\n",
      "   8114.29882812  8594.61621094]\n",
      " [ 3003.83666992  2379.18066406     0.         ...,  7790.39892578\n",
      "   8078.74072266  8658.35253906]\n",
      " ..., \n",
      " [ 7742.68994141  7789.65966797  7790.39892578 ...,     0.          4006.83203125\n",
      "   5862.74365234]\n",
      " [ 8096.61083984  8114.29882812  8078.74072266 ...,  4006.83203125     0.\n",
      "   4748.14306641]\n",
      " [ 8547.62402344  8594.61621094  8658.35253906 ...,  5862.74365234\n",
      "   4748.14306641     0.        ]]\n",
      "9177.34\n"
     ]
    }
   ],
   "source": [
    "people1_pic_size = facedat[0][0][:][91][1].size\n",
    "print people1_pic_size\n",
    "mat_people1 = np.zeros((people1_pic_size,pixels))\n",
    "for i in range(0,people1_pic_size):\n",
    "        mat_people1[i]= facedat[0][0][:,:,i].flatten()# mat_people1 是描述 class1 的大矩阵\n",
    "vec_people1 = mat_people1.flatten()\n",
    "#for test\n",
    "#print mat_people1[0].reshape(112,92)\n",
    "\n",
    "people2_pic_size = facedat[0][1][:][91][1].size\n",
    "print people2_pic_size\n",
    "mat_people2 = np.zeros((people2_pic_size,pixels))\n",
    "for i in range(0,people2_pic_size):\n",
    "        mat_people2[i]= facedat[0][1][:,:,i].flatten()# mat_people1 是描述 class1 的大矩阵\n",
    "vec_people2 = mat_people2.flatten()\n",
    "#for test\n",
    "#print mat_people2[0].reshape(112,92)\n",
    "\n",
    "def cal_distance_mat_people12(mat_peoplei,mat_peoplej):\n",
    "    sizei = mat_peoplei.shape[0]\n",
    "    sizej = mat_peoplej.shape[0]\n",
    "    print sizei,sizej\n",
    "    size = sizei+sizej\n",
    "    print size\n",
    "    mat_dist = np.zeros((size,size),dtype='f') \n",
    "    mat_people12=np.row_stack((mat_peoplei,mat_peoplej))\n",
    "    for i in range(0,size):\n",
    "        for j in range(0,size):\n",
    "            mat_dist[i][j]= scipy.spatial.distance.euclidean(mat_people12[i],mat_people12[j])\n",
    "    return mat_dist # the output is the distance matrix of the people1 and people2\n",
    "\n",
    "mat_dist=cal_distance_mat_people12(mat_people1,mat_people2)\n",
    "print mat_dist\n",
    "print mat_dist[0][35]\n"
   ]
  },
  {
   "cell_type": "code",
   "execution_count": 29,
   "metadata": {
    "collapsed": false
   },
   "outputs": [],
   "source": [
    "#计算class1的类内距离矩阵 ？ 封成函数？ \n",
    "\n",
    "def cal_mat_class_distance(mat_peoplei):  #（描述第i个class的矩阵 size*10340） 计算类内样本距离，类内样本距离向量\n",
    "    rows = mat_peoplei.shape[0]\n",
    "    dist = 0\n",
    "    num = 0\n",
    "    vec_class_distance = np.zeros((rows*(rows-1)/2),dtype='f')\n",
    "    for i in range(0,rows-1):\n",
    "        for j in range(i+1,rows):\n",
    "            vec_class_distance[num] = scipy.spatial.distance.euclidean(mat_peoplei[i],mat_peoplei[j])\n",
    "            dist += scipy.spatial.distance.euclidean(mat_peoplei[i],mat_peoplei[j])\n",
    "            num += 1          \n",
    "    return dist,vec_class_distance\n"
   ]
  },
  {
   "cell_type": "code",
   "execution_count": 30,
   "metadata": {
    "collapsed": false
   },
   "outputs": [
    {
     "name": "stdout",
     "output_type": "stream",
     "text": [
      "(4436164.7122043157, array([ 1712.1583252 ,  3003.83666992,  3113.13769531, ...,  6341.18847656,\n",
      "        5616.08984375,  6287.3046875 ], dtype=float32))\n"
     ]
    }
   ],
   "source": [
    "print cal_mat_class_distance(mat_people1)"
   ]
  },
  {
   "cell_type": "code",
   "execution_count": 31,
   "metadata": {
    "collapsed": false
   },
   "outputs": [
    {
     "name": "stdout",
     "output_type": "stream",
     "text": [
      "1031.7384596\n"
     ]
    }
   ],
   "source": [
    "def cal_av_mat_class_distance (mat_people): #计算类内样本平均距离\n",
    "    dist = 0\n",
    "    num = 0\n",
    "    for item in mat_people:\n",
    "        people_item_pic_size = item[:][91][1].size\n",
    "        num += people_item_pic_size * (people_item_pic_size-1)/2\n",
    "        # mat_people_item是描述 第item个class 的大矩阵\n",
    "        mat_people_item = item.flatten().reshape(people_item_pic_size,112*92)\n",
    "        vec_people_item = item.flatten()\n",
    "        result_dist,result_vetor =  cal_mat_class_distance(mat_people_item)\n",
    "        dist += result_dist\n",
    "    av_dist = dist / num\n",
    "    return av_dist\n",
    "\n",
    "av_mat_class_distance = cal_av_mat_class_distance(people) # 平均类内样本距离\n",
    "print av_mat_class_distance"
   ]
  },
  {
   "cell_type": "code",
   "execution_count": 32,
   "metadata": {
    "collapsed": false
   },
   "outputs": [
    {
     "name": "stdout",
     "output_type": "stream",
     "text": [
      "2111.22021484\n"
     ]
    }
   ],
   "source": [
    "#计算class1 （people1）的类内距离标准差\n",
    "dist1,vec_class_distance_people1 = cal_mat_class_distance(mat_people1) \n",
    "std1 = np.std(vec_class_distance_people1)\n",
    "#计算class2 （people2）的类内距离标准差\n",
    "dist2,vec_class_distance_people2 = cal_mat_class_distance(mat_people2) \n",
    "std2 = np.std(vec_class_distance_people2)\n",
    "std12 = (std1+std2)/2\n",
    "print std12\n"
   ]
  },
  {
   "cell_type": "code",
   "execution_count": 33,
   "metadata": {
    "collapsed": false
   },
   "outputs": [
    {
     "name": "stdout",
     "output_type": "stream",
     "text": [
      "[[ 1.          0.44442213  0.24103901 ...,  0.02554279  0.02160051\n",
      "   0.01744564]\n",
      " [ 0.44442213  1.          0.32402903 ...,  0.02498079  0.02142029\n",
      "   0.01706162]\n",
      " [ 0.24103901  0.32402903  1.         ...,  0.02497205  0.02178412\n",
      "   0.01655424]\n",
      " ..., \n",
      " [ 0.02554279  0.02498079  0.02497205 ...,  1.          0.1498868\n",
      "   0.06222829]\n",
      " [ 0.02160051  0.02142029  0.02178412 ...,  0.1498868   1.          0.10550424]\n",
      " [ 0.01744564  0.01706162  0.01655424 ...,  0.06222829  0.10550424  1.        ]]\n",
      "(73, 73)\n"
     ]
    }
   ],
   "source": [
    "mat_W = np.exp(-mat_dist/std12) #mat_W是 similarity matrix  核函数为 exp(-d/std)\n",
    "print mat_W\n",
    "print mat_W.shape"
   ]
  },
  {
   "cell_type": "code",
   "execution_count": 35,
   "metadata": {
    "collapsed": false
   },
   "outputs": [
    {
     "name": "stdout",
     "output_type": "stream",
     "text": [
      "[ 0.92952561  0.68883961  0.56011438]\n",
      "  (15, 0)\t1.0\n",
      "  (16, 0)\t1.0\n",
      "  (17, 0)\t1.0\n",
      "  (18, 0)\t1.0\n",
      "  (19, 0)\t1.0\n",
      "  (20, 0)\t1.0\n",
      "  (21, 0)\t1.0\n",
      "  (22, 0)\t1.0\n",
      "  (23, 0)\t1.0\n",
      "  (48, 0)\t1.0\n",
      "  (49, 0)\t1.0\n",
      "  (50, 0)\t1.0\n",
      "  (51, 0)\t1.0\n",
      "  (52, 0)\t1.0\n",
      "  (53, 0)\t1.0\n",
      "  (54, 0)\t1.0\n",
      "  (55, 0)\t1.0\n",
      "  (56, 0)\t1.0\n",
      "  (57, 0)\t1.0\n",
      "  (58, 0)\t1.0\n",
      "  (59, 0)\t1.0\n",
      "  (60, 0)\t1.0\n",
      "  (61, 0)\t1.0\n",
      "  (62, 0)\t1.0\n",
      "  (66, 0)\t1.0\n",
      "  :\t:\n",
      "  (3, 2)\t1.0\n",
      "  (4, 2)\t1.0\n",
      "  (5, 2)\t1.0\n",
      "  (6, 2)\t1.0\n",
      "  (7, 2)\t1.0\n",
      "  (8, 2)\t1.0\n",
      "  (9, 2)\t1.0\n",
      "  (10, 2)\t1.0\n",
      "  (11, 2)\t1.0\n",
      "  (12, 2)\t1.0\n",
      "  (13, 2)\t1.0\n",
      "  (14, 2)\t1.0\n",
      "  (38, 2)\t1.0\n",
      "  (39, 2)\t1.0\n",
      "  (40, 2)\t1.0\n",
      "  (41, 2)\t1.0\n",
      "  (42, 2)\t1.0\n",
      "  (43, 2)\t1.0\n",
      "  (44, 2)\t1.0\n",
      "  (45, 2)\t1.0\n",
      "  (46, 2)\t1.0\n",
      "  (47, 2)\t1.0\n",
      "  (63, 2)\t1.0\n",
      "  (64, 2)\t1.0\n",
      "  (65, 2)\t1.0\n"
     ]
    }
   ],
   "source": [
    "import python_ncut_lib as nc\n",
    "#np.set_printoptions(threshehold = np.nan)\n",
    "nbEigen = 3\n",
    "eigen_value,vector=nc.ncut(mat_W,nbEigen)\n",
    "vec_dis = nc.discretisation(vector)\n",
    "print eigen_value\n",
    "print vec_dis"
   ]
  },
  {
   "cell_type": "code",
   "execution_count": null,
   "metadata": {
    "collapsed": false
   },
   "outputs": [],
   "source": []
  },
  {
   "cell_type": "code",
   "execution_count": null,
   "metadata": {
    "collapsed": false
   },
   "outputs": [],
   "source": []
  }
 ],
 "metadata": {
  "celltoolbar": "Slideshow",
  "kernelspec": {
   "display_name": "Python 2",
   "language": "python",
   "name": "python2"
  },
  "language_info": {
   "codemirror_mode": {
    "name": "ipython",
    "version": 2
   },
   "file_extension": ".py",
   "mimetype": "text/x-python",
   "name": "python",
   "nbconvert_exporter": "python",
   "pygments_lexer": "ipython2",
   "version": "2.7.6"
  }
 },
 "nbformat": 4,
 "nbformat_minor": 0
}
